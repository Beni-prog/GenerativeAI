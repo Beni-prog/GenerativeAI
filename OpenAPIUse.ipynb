{
 "cells": [
  {
   "cell_type": "code",
   "execution_count": 2,
   "id": "20fa8050-7ab6-46c7-b1cf-d25a0205faef",
   "metadata": {},
   "outputs": [
   ],
   "source": [
    "!pip install --upgrade openai"
   ]
  },
  {
   "cell_type": "code",
   "execution_count": 2,
   "id": "b9b3f085-d56a-4254-806c-6345d4e274dd",
   "metadata": {},
   "outputs": [],
   "source": [
    "import openai\n",
    "import os"
   ]
  },
  {
   "cell_type": "code",
   "execution_count": 3,
   "id": "713713a2-ccd2-4c14-b0aa-1e436b4412fa",
   "metadata": {},
   "outputs": [],
   "source": [
    "os.environ['OPENAI_API_KEY']=''"
   ]
  },
  {
   "cell_type": "code",
   "execution_count": 4,
   "id": "cdaf7c9b-a94b-4980-94da-4271382abdd1",
   "metadata": {},
   "outputs": [],
   "source": [
    "openai.api_key = os.getenv('OPENAI_API_KEY')"
   ]
  },
  {
   "cell_type": "code",
   "execution_count": 5,
   "id": "80d9dcce-e79b-488e-8837-3e175637a809",
   "metadata": {},
   "outputs": [
   ],
   "source": [
    "openai.api_key"
   ]
  },
  {
   "cell_type": "code",
   "execution_count": null,
   "id": "207f214b-5ca4-4d69-af33-8ef775987efc",
   "metadata": {},
   "outputs": [],
   "source": [
    "response = openai.completions.create(\n",
    "    model=\"gpt-3.5-turbo\",\n",
    "    prompt=\"The color of the car was \")\n",
    "response = openai.chat.completions.create(\n",
    "    model=\"gpt-3.5-turbo\",\n",
    "    messages = [{\"role\":\"user\", \"content\":\"Describe generative ai in one sentence\"}]\n",
    ")"
   ]
  }
 ],
 "metadata": {
  "kernelspec": {
   "display_name": "Python 3 (ipykernel)",
   "language": "python",
   "name": "python3"
  },
  "language_info": {
   "codemirror_mode": {
    "name": "ipython",
    "version": 3
   },
   "file_extension": ".py",
   "mimetype": "text/x-python",
   "name": "python",
   "nbconvert_exporter": "python",
   "pygments_lexer": "ipython3",
   "version": "3.11.7"
  }
 },
 "nbformat": 4,
 "nbformat_minor": 5
}
