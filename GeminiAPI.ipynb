{
 "cells": [
  {
   "cell_type": "code",
   "execution_count": 1,
   "id": "757fd9c5-a337-4bc5-b5fb-a274993bb10a",
   "metadata": {},
   "outputs": [
   ],
   "source": [
    "!pip install google-generativeai"
   ]
  },
  {
   "cell_type": "code",
   "execution_count": 2,
   "id": "aa736372-5d00-469a-9526-b0f4c629f909",
   "metadata": {},
   "outputs": [],
   "source": [
    "import google.generativeai as palm"
   ]
  },
  {
   "cell_type": "code",
   "execution_count": 3,
   "id": "60ccd3ea-4e09-4f26-b1f1-58c4e16e3565",
   "metadata": {},
   "outputs": [],
   "source": [
    "import os"
   ]
  },
  {
   "cell_type": "code",
   "execution_count": 5,
   "id": "e0a5321c-b1ad-419b-ba3b-2fc2e1571fa6",
   "metadata": {},
   "outputs": [],
   "source": [
    "os.environ['GEMINI_API_KEY']=''"
   ]
  },
  {
   "cell_type": "code",
   "execution_count": 8,
   "id": "6f224eaf-2489-4ce4-a455-0e17f6fbbd75",
   "metadata": {},
   "outputs": [],
   "source": [
    "palm.configure(api_key=os.environ['GEMINI_API_KEY'])"
   ]
  },
  {
   "cell_type": "code",
   "execution_count": 10,
   "id": "e07fd846-f6b0-4919-a026-d03888c8dc0e",
   "metadata": {},
   "outputs": [
   ],
   "source": [
    "prompt = \"\"\"\n",
    "         You are a social media expert. Write a tweet about generative ai.\n",
    "         \"\"\"\n",
    "completion = palm.generate_text(\n",
    "    model=\"models/text-bison-001\",\n",
    "    prompt= prompt,\n",
    "    temperature=0,\n",
    ")\n",
    "print(completion.result)"
   ]
  },
  {
   "cell_type": "code",
   "execution_count": null,
   "id": "ab815283-b81b-45a1-9dc3-aad2cad2a1d7",
   "metadata": {},
   "outputs": [],
   "source": []
  }
 ],
 "metadata": {
  "kernelspec": {
   "display_name": "Python 3 (ipykernel)",
   "language": "python",
   "name": "python3"
  },
  "language_info": {
   "codemirror_mode": {
    "name": "ipython",
    "version": 3
   },
   "file_extension": ".py",
   "mimetype": "text/x-python",
   "name": "python",
   "nbconvert_exporter": "python",
   "pygments_lexer": "ipython3",
   "version": "3.11.7"
  }
 },
 "nbformat": 4,
 "nbformat_minor": 5
}
