{
 "cells": [
  {
   "cell_type": "code",
   "execution_count": 14,
   "id": "108758bc-4082-47fc-868f-9bbc7ff38d1c",
   "metadata": {},
   "outputs": [],
   "source": [
    "import openai\n",
    "import os\n",
    "import csv\n",
    "from openai import OpenAI"
   ]
  },
  {
   "cell_type": "code",
   "execution_count": 15,
   "id": "20c03dde-e3df-4f25-9a31-076c8e59a708",
   "metadata": {},
   "outputs": [],
   "source": [
    "os.environ['OPENAI_API_KEY']=''"
   ]
  },
  {
   "cell_type": "code",
   "execution_count": 16,
   "id": "58204b8a-2f92-480f-ae06-87e02b66febd",
   "metadata": {},
   "outputs": [],
   "source": [
    "openai.api_key = os.getenv('OPENAI_API_KEY')"
   ]
  },
  {
   "cell_type": "code",
   "execution_count": 17,
   "id": "d627a96d-487d-4b15-a8e4-9ac3649cbe91",
   "metadata": {},
   "outputs": [],
   "source": [
    "client = OpenAI(organization='')"
   ]
  },
  {
   "cell_type": "code",
   "execution_count": 18,
   "id": "96be3b5e-8726-4e24-b841-1529eff776e1",
   "metadata": {},
   "outputs": [
   ],
   "source": [
    "def getFeedback(filePath) :\n",
    "    comments = []\n",
    "    with open(filePath, 'r') as csvfile:\n",
    "        csvreader = csv.reader(csvfile)\n",
    "        next(csvreader)\n",
    "        for row in csvreader:\n",
    "            comments.append(row[0])\n",
    "    return comments\n",
    "\n",
    "def getSentiment(feedback):\n",
    "    response = openai.chat.completions.create(\n",
    "        model=\"gpt-3.5-turbo\",\n",
    "        messages = [{\"role\":\"system\", \"content\":\"\"\"You are a system that determines the sentiment of comments and feedback. \\\n",
    "                      Express the sentiment with either positive, negative or neutral. Analyze the sentiment of the comment \\ \n",
    "                      delimited by ###\"\"\"},\n",
    "                   {\"role\":\"user\", \"content\":feedback}]\n",
    "    )\n",
    "    return response ['choices'][0]['message']['content']\n",
    "\n",
    "filePath = \"feedback.csv\"\n",
    "feedback = getFeedback(filePath)\n",
    "\n",
    "for comment in feedback:\n",
    "    prompt = f\"###{comment}###\"\n",
    "    sentimentResult = getSentiment(prompt)\n",
    "    print(f\"Comment: {comment}\")\n",
    "    print(f\"{sentimentResult}\")\n",
    "    print(\"------------------\")"
   ]
  },
  {
   "cell_type": "code",
   "execution_count": null,
   "id": "b412b6b9-b177-4c7f-9d88-d44aa23855f3",
   "metadata": {},
   "outputs": [],
   "source": []
  }
 ],
 "metadata": {
  "kernelspec": {
   "display_name": "Python 3 (ipykernel)",
   "language": "python",
   "name": "python3"
  },
  "language_info": {
   "codemirror_mode": {
    "name": "ipython",
    "version": 3
   },
   "file_extension": ".py",
   "mimetype": "text/x-python",
   "name": "python",
   "nbconvert_exporter": "python",
   "pygments_lexer": "ipython3",
   "version": "3.11.7"
  }
 },
 "nbformat": 4,
 "nbformat_minor": 5
}
