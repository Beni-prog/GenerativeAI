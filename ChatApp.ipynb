{
 "cells": [
  {
   "cell_type": "code",
   "execution_count": 1,
   "id": "7adf9d00-f8fb-49fe-b7f7-0b0931a75097",
   "metadata": {},
   "outputs": [],
   "source": [
    "import openai\n",
    "import os\n",
    "import csv\n",
    "from openai import OpenAI"
   ]
  },
  {
   "cell_type": "code",
   "execution_count": 2,
   "id": "beef317d-e8fd-4de8-a69d-76f8ff03b239",
   "metadata": {},
   "outputs": [],
   "source": [
    "os.environ['OPENAI_API_KEY']=''"
   ]
  },
  {
   "cell_type": "code",
   "execution_count": 3,
   "id": "a50dea1c-d62a-47bc-b6ed-d555156bc3b5",
   "metadata": {},
   "outputs": [],
   "source": [
    "openai.api_key = os.getenv('OPENAI_API_KEY')"
   ]
  },
  {
   "cell_type": "code",
   "execution_count": 4,
   "id": "f2c27648-d858-456d-be9a-197d10cfdde0",
   "metadata": {},
   "outputs": [],
   "source": [
    "client = OpenAI(organization='')"
   ]
  },
  {
   "cell_type": "code",
   "execution_count": 5,
   "id": "9be9f179-f94d-4cb4-a8cd-2acfd00db810",
   "metadata": {},
   "outputs": [
    {
     "name": "stdout",
     "output_type": "stream",
     "text": [
      "This is your virtual assistant, Ada. How can I help you?\n",
      "\n",
      "Type 'exit' to stop the chat.\n",
      "\n"
     ]
    },
    {
     "name": "stdin",
     "output_type": "stream",
     "text": [
      "You:  How are you?\n"
     ]
    }
   ],
   "source": [
    "def chatSystem(messages):\n",
    "    response = openai.chat.completions.create(\n",
    "        model=\"gpt-3.5-turbo\",\n",
    "        messages = messages\n",
    "    )\n",
    "    return response.choices[0]['message']['content']\n",
    "\n",
    "print(\"This is your virtual assistant, Ada. How can I help you?\\n\")\n",
    "print(\"Type 'exit' to stop the chat.\\n\")\n",
    "\n",
    "messageHistory = []\n",
    "messageHistory.append(\n",
    "    {'role':'system', 'content': 'You are a personal assistant. Your tone is helpful. The response must be consice and not exceed one paragraph.'})\n",
    "\n",
    "userInput = ''\n",
    "\n",
    "while userInput != 'exit':\n",
    "    userInput = input(\"You: \")\n",
    "    messageHistory.append({\"role\": \"user\", \"content\":userInput})\n",
    "    response = chatSystem(messageHistory)\n",
    "    print(\"Ada: \", response)\n",
    "    print(messageHistory)"
   ]
  },
  {
   "cell_type": "code",
   "execution_count": null,
   "id": "4e435f51-6af5-4815-af3b-8c2e44a726c0",
   "metadata": {},
   "outputs": [],
   "source": []
  }
 ],
 "metadata": {
  "kernelspec": {
   "display_name": "Python 3 (ipykernel)",
   "language": "python",
   "name": "python3"
  },
  "language_info": {
   "codemirror_mode": {
    "name": "ipython",
    "version": 3
   },
   "file_extension": ".py",
   "mimetype": "text/x-python",
   "name": "python",
   "nbconvert_exporter": "python",
   "pygments_lexer": "ipython3",
   "version": "3.11.7"
  }
 },
 "nbformat": 4,
 "nbformat_minor": 5
}
