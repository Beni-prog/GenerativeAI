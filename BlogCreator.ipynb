{
 "cells": [
  {
   "cell_type": "code",
   "execution_count": 1,
   "id": "964a157e-d060-4167-8b6f-b37cfcbbf1c3",
   "metadata": {},
   "outputs": [],
   "source": [
    "import openai\n",
    "import os\n",
    "import csv\n",
    "from openai import OpenAI"
   ]
  },
  {
   "cell_type": "code",
   "execution_count": 2,
   "id": "8c5fd341-2fa5-48ca-8990-3a2e6bc7a99a",
   "metadata": {},
   "outputs": [],
   "source": [
    "os.environ['OPENAI_API_KEY']=''"
   ]
  },
  {
   "cell_type": "code",
   "execution_count": 3,
   "id": "8b8cbb7e-ea15-40c8-a403-dddb7cf7d9e7",
   "metadata": {},
   "outputs": [],
   "source": [
    "openai.api_key = os.getenv('OPENAI_API_KEY')"
   ]
  },
  {
   "cell_type": "code",
   "execution_count": 4,
   "id": "22eee654-e5ac-4a61-80f9-92e6e3eb6997",
   "metadata": {},
   "outputs": [],
   "source": [
    "client = OpenAI(organization='')"
   ]
  },
  {
   "cell_type": "code",
   "execution_count": 10,
   "id": "04a43227-3f87-4a80-b2c0-fc1b0d68cfbd",
   "metadata": {},
   "outputs": [
    {
     "name": "stdout",
     "output_type": "stream",
     "text": [
      "Welcome to the Blog Creator!\n",
      "\n"
     ]
    },
    {
     "name": "stdin",
     "output_type": "stream",
     "text": [
      "Enter a topic for the blog:  music\n",
      "Enter the maximum length:  200\n",
      "Enter the tone: 1-funny, 2-neutral, 3-serious 1\n"
     ]
    }
   ],
   "source": [
    "def createBlogPost(topic, length=300, tone=1):\n",
    "    if tone == 1:\n",
    "        tone_description = 'funny'\n",
    "    elif tone == 2:\n",
    "        tone_description = 'neutral'\n",
    "    else:\n",
    "        tone_description = 'serious'\n",
    "    \n",
    "    prompt = f'''\n",
    "             Write a blog post about {topic}. Limit it to no more than {length} words.\n",
    "             The tone is {tone_description}\n",
    "             Create an interesting title for the blog.\n",
    "\n",
    "             Use the following format for the blog.\n",
    "\n",
    "             Title: <the title of the blog> \n",
    "             Date: <the current date>\n",
    "             Blog: <the content of the blog>\n",
    "             '''\n",
    "    response = openai.chat.completions.create(\n",
    "        model=\"gpt-3.5-turbo\",\n",
    "        messages = [{\n",
    "            'role': 'system', 'content': 'You are an expert blog writer',\n",
    "            'role': 'user', 'content': prompt\n",
    "        }],\n",
    "        max_tokens = length\n",
    "    )\n",
    "    return response.choices[0]['message']['content']\n",
    "\n",
    "print(\"Welcome to the Blog Creator!\\n\")\n",
    "\n",
    "topic = input(\"Enter a topic for the blog: \")\n",
    "length = int(input(\"Enter the maximum length: \"))\n",
    "tone = input(\"Enter the tone: 1-funny, 2-neutral, 3-serious\")\n",
    "\n",
    "blogText = createBlogPost(topic, length, tone)\n",
    "\n",
    "print(blogText)"
   ]
  },
  {
   "cell_type": "code",
   "execution_count": null,
   "id": "a01cdf2f-dbea-499f-9dfe-2b508ce04f9b",
   "metadata": {},
   "outputs": [],
   "source": []
  }
 ],
 "metadata": {
  "kernelspec": {
   "display_name": "Python 3 (ipykernel)",
   "language": "python",
   "name": "python3"
  },
  "language_info": {
   "codemirror_mode": {
    "name": "ipython",
    "version": 3
   },
   "file_extension": ".py",
   "mimetype": "text/x-python",
   "name": "python",
   "nbconvert_exporter": "python",
   "pygments_lexer": "ipython3",
   "version": "3.11.7"
  }
 },
 "nbformat": 4,
 "nbformat_minor": 5
}
